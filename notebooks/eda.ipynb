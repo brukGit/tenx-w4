{
 "cells": [
  {
   "cell_type": "markdown",
   "metadata": {},
   "source": [
    "# Exploratory Data Analysis: Rossmann Pharmaceuticals Sales Forecasting\n",
    "\n",
    "This notebook contains the exploratory data analysis for the Rossmann Pharmaceuticals sales forecasting project. We'll analyze the data to understand customer purchasing behavior and prepare it for modeling."
   ]
  },
  {
   "cell_type": "code",
   "execution_count": 68,
   "metadata": {},
   "outputs": [],
   "source": [
    "import sys\n",
    "sys.path.append('../src')\n",
    "\n",
    "import pandas as pd\n",
    "import numpy as np\n",
    "import matplotlib.pyplot as plt\n",
    "import seaborn as sns\n",
    "\n",
    "if 'data_loader' in sys.modules:\n",
    "    del sys.modules['data_loader']\n",
    "if 'data_cleaner' in sys.modules:\n",
    "    del sys.modules['data_cleaner']\n",
    "if 'eda_analyzer' in sys.modules:\n",
    "    del sys.modules['eda_analyzer']\n",
    "if 'utils' in sys.modules:\n",
    "    del sys.modules['utils']\n",
    "    \n",
    "from data_loader import DataLoader\n",
    "from data_cleaner import DataCleaner\n",
    "from eda_analyzer import EDAAnalyzer\n",
    "import utils\n",
    "\n",
    "%matplotlib inline\n",
    "plt.style.use('seaborn-v0_8-dark')"
   ]
  },
  {
   "cell_type": "markdown",
   "metadata": {},
   "source": [
    "## 1. Data Loading and Cleaning"
   ]
  },
  {
   "cell_type": "code",
   "execution_count": null,
   "metadata": {},
   "outputs": [],
   "source": [
    "# Load the data\n",
    "loader = DataLoader()\n",
    "loader.load_data('../resources/Data/train.csv', '../resources/Data/test.csv', '../resources/Data/store.csv')\n",
    "merged_train, merged_test = loader.merge_data()\n",
    "\n",
    "# Clean the data\n",
    "cleaner = DataCleaner()\n",
    "cleaned_train = cleaner.preprocess_data(merged_train)\n",
    "cleaned_test = cleaner.preprocess_data(merged_test)\n",
    "\n",
    "print(\"Train data shape:\", cleaned_train.shape)\n",
    "print(\"Test data shape:\", cleaned_test.shape)\n",
    "print(\"\\nTrain data columns:\", cleaned_train.columns.tolist())\n",
    "print(\"\\nTrain data info:\")\n",
    "cleaned_train.info()"
   ]
  },
  {
   "cell_type": "markdown",
   "metadata": {},
   "source": [
    "## 2. Distribution Analysis: Promotions in Training and Test Sets"
   ]
  },
  {
   "cell_type": "code",
   "execution_count": null,
   "metadata": {},
   "outputs": [],
   "source": [
    "analyzer = EDAAnalyzer(cleaned_train, cleaned_test)\n",
    "analyzer.analyze_promotions()\n",
    "plt.show()"
   ]
  },
  {
   "cell_type": "markdown",
   "metadata": {},
   "source": [
    "The bar plot above shows the distribution of promotions in both the training and test sets. This allows us to compare if promotions are distributed similarly in both datasets, ensuring a fair evaluation of our model."
   ]
  },
  {
   "cell_type": "markdown",
   "metadata": {},
   "source": [
    "## 3. Holiday Effects on Sales"
   ]
  },
  {
   "cell_type": "code",
   "execution_count": null,
   "metadata": {},
   "outputs": [],
   "source": [
    "analyzer.analyze_holiday_effects()\n",
    "plt.show()"
   ]
  },
  {
   "cell_type": "markdown",
   "metadata": {},
   "source": [
    "This line plot illustrates the average sales during different state holidays. It helps us understand how holidays impact sales patterns, which can inform promotional strategies around these periods."
   ]
  },
  {
   "cell_type": "markdown",
   "metadata": {},
   "source": [
    "## 4. Seasonality in Purchasing Behaviors"
   ]
  },
  {
   "cell_type": "code",
   "execution_count": null,
   "metadata": {},
   "outputs": [],
   "source": [
    "analyzer.analyze_seasonality()\n",
    "plt.show()"
   ]
  },
  {
   "cell_type": "markdown",
   "metadata": {},
   "source": [
    "The line plot above shows average monthly sales, helping us identify any seasonal patterns in purchasing behavior. This information can be crucial for inventory management and promotional planning."
   ]
  },
  {
   "cell_type": "markdown",
   "metadata": {},
   "source": [
    "## 5. Correlation between Sales and Number of Customers"
   ]
  },
  {
   "cell_type": "code",
   "execution_count": null,
   "metadata": {},
   "outputs": [],
   "source": [
    "analyzer.analyze_sales_customers_correlation()\n",
    "plt.show()"
   ]
  },
  {
   "cell_type": "markdown",
   "metadata": {},
   "source": [
    "This scatter plot visualizes the relationship between sales and the number of customers. The correlation coefficient provides a quantitative measure of this relationship, which can help in understanding how customer traffic relates to sales performance."
   ]
  },
  {
   "cell_type": "markdown",
   "metadata": {},
   "source": [
    "## 6. Promotional Impact on Sales and Customers"
   ]
  },
  {
   "cell_type": "code",
   "execution_count": null,
   "metadata": {},
   "outputs": [],
   "source": [
    "analyzer.analyze_promotional_impact()\n",
    "plt.show()"
   ]
  },
  {
   "cell_type": "markdown",
   "metadata": {},
   "source": [
    "This bar plot compares average sales and customer numbers during promotional and non-promotional periods. It helps us understand how promotions influence both sales and customer traffic, which is crucial for optimizing promotional strategies."
   ]
  },
  {
   "cell_type": "markdown",
   "metadata": {},
   "source": [
    "## 7. Additional Analyses"
   ]
  },
  {
   "cell_type": "code",
   "execution_count": null,
   "metadata": {},
   "outputs": [],
   "source": [
    "# Analyze sales patterns by day of the week\n",
    "cleaned_train['DayOfWeek'] = pd.to_datetime(cleaned_train['Date']).dt.dayofweek\n",
    "day_sales = cleaned_train.groupby('DayOfWeek')['Sales'].mean().reindex(range(7))\n",
    "\n",
    "plt.figure(figsize=(10, 6))\n",
    "day_sales.plot(kind='bar')\n",
    "plt.title('Average Sales by Day of Week')\n",
    "plt.xlabel('Day of Week (0=Monday, 6=Sunday)')\n",
    "plt.ylabel('Average Sales')\n",
    "plt.tight_layout()\n",
    "plt.show()"
   ]
  },
  {
   "cell_type": "markdown",
   "metadata": {},
   "source": [
    "This bar plot shows average sales by day of the week, helping us identify any weekly patterns in sales."
   ]
  },
  {
   "cell_type": "code",
   "execution_count": null,
   "metadata": {},
   "outputs": [],
   "source": [
    "# Analyze the impact of competition distance on sales\n",
    "plt.figure(figsize=(10, 6))\n",
    "sns.scatterplot(x='CompetitionDistance', y='Sales', data=cleaned_train.sample(n=1000))\n",
    "plt.title('Sales vs Competition Distance')\n",
    "plt.xlabel('Competition Distance')\n",
    "plt.ylabel('Sales')\n",
    "plt.tight_layout()\n",
    "plt.show()"
   ]
  },
  {
   "cell_type": "markdown",
   "metadata": {},
   "source": [
    "This scatter plot visualizes the relationship between sales and the distance to the nearest competitor, helping us understand how competitor proximity affects sales."
   ]
  },
  {
   "cell_type": "markdown",
   "metadata": {},
   "source": [
    "## 8. Summary and Key Findings\n",
    "\n",
    "Based on our exploratory data analysis, we can draw the following conclusions:\n",
    "\n",
    "1. Promotion Distribution: [Insert findings about promotion distribution in train and test sets]\n",
    "2. Holiday Effects: [Insert findings about how holidays affect sales]\n",
    "3. Seasonality: [Insert findings about seasonal patterns in sales]\n",
    "4. Sales and Customers Correlation: [Insert findings about the relationship between sales and number of customers]\n",
    "5. Promotional Impact: [Insert findings about how promotions affect sales and customer numbers]\n",
    "6. Weekly Sales Patterns: [Insert findings about sales patterns by day of week]\n",
    "7. Competition Impact: [Insert findings about how competition distance affects sales]\n",
    "\n",
    "These insights will be valuable for building our sales forecasting model and for informing business strategies related to promotions, holiday planning, and competitive positioning."
   ]
  }
 ],
 "metadata": {
  "kernelspec": {
   "display_name": "Python 3",
   "language": "python",
   "name": "python3"
  },
  "language_info": {
   "codemirror_mode": {
    "name": "ipython",
    "version": 3
   },
   "file_extension": ".py",
   "mimetype": "text/x-python",
   "name": "python",
   "nbconvert_exporter": "python",
   "pygments_lexer": "ipython3",
   "version": "3.12.4"
  }
 },
 "nbformat": 4,
 "nbformat_minor": 4
}
