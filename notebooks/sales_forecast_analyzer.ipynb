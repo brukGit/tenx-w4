{
 "cells": [
  {
   "cell_type": "markdown",
   "metadata": {},
   "source": [
    "# Rossmann Pharmaceuticals Sales Forecast Analysis"
   ]
  },
  {
   "cell_type": "code",
   "execution_count": 10,
   "metadata": {},
   "outputs": [],
   "source": [
    "import sys\n",
    "sys.path.append('../src')\n",
    "import pandas as pd\n",
    "import numpy as np\n",
    "import matplotlib.pyplot as plt\n",
    "import seaborn as sns\n",
    "from sklearn.model_selection import train_test_split\n",
    "\n",
    "if 'preprocessor' in sys.modules:\n",
    "    del sys.modules['preprocessor']\n",
    "if 'model_builder' in sys.modules:\n",
    "    del sys.modules['model_builder']\n",
    "if 'evaluator' in sys.modules:\n",
    "    del sys.modules['evaluator']\n",
    "\n",
    "from preprocessor import Preprocessor\n",
    "from model_builder import ModelBuilder\n",
    "from evaluator import Evaluator"
   ]
  },
  {
   "cell_type": "markdown",
   "metadata": {},
   "source": [
    "## Data Loading and Preprocessing"
   ]
  },
  {
   "cell_type": "code",
   "execution_count": 11,
   "metadata": {},
   "outputs": [
    {
     "name": "stderr",
     "output_type": "stream",
     "text": [
      "C:\\Users\\bab\\AppData\\Local\\Temp\\ipykernel_7412\\1001810698.py:2: DtypeWarning: Columns (7) have mixed types. Specify dtype option on import or set low_memory=False.\n",
      "  train = pd.read_csv('../resources/Data/train.csv')\n"
     ]
    }
   ],
   "source": [
    "# Load data\n",
    "train = pd.read_csv('../resources/Data/train.csv')\n",
    "test = pd.read_csv('../resources/Data/test.csv')\n",
    "store = pd.read_csv('../resources/Data/store.csv')\n",
    "\n",
    "# Merge data\n",
    "train = pd.merge(train, store, on='Store', how='left')\n",
    "test = pd.merge(test, store, on='Store', how='left')\n"
   ]
  },
  {
   "cell_type": "code",
   "execution_count": 12,
   "metadata": {},
   "outputs": [
    {
     "name": "stderr",
     "output_type": "stream",
     "text": [
      "2024-09-21 15:34:19,902 - INFO - Initialized Preprocessor with 12 holidays\n",
      "2024-09-21 15:34:19,904 - INFO - Starting preprocessing...\n",
      "2024-09-21 15:34:19,906 - INFO - Initial DataFrame shape: (1017209, 18)\n",
      " columns: ['Store', 'DayOfWeek', 'Date', 'Sales', 'Customers', 'Open', 'Promo', 'StateHoliday', 'SchoolHoliday', 'StoreType', 'Assortment', 'CompetitionDistance', 'CompetitionOpenSinceMonth', 'CompetitionOpenSinceYear', 'Promo2', 'Promo2SinceWeek', 'Promo2SinceYear', 'PromoInterval']\n",
      "2024-09-21 15:34:19,907 - INFO - Handling missing values, encoding categorical variables, and scaling numerical variables...\n"
     ]
    },
    {
     "name": "stderr",
     "output_type": "stream",
     "text": [
      "2024-09-21 15:34:25,426 - INFO - Missing value handling, encoding, and scaling completed in 5.52 seconds\n",
      "2024-09-21 15:34:25,426 - INFO - DataFrame shape after processing: (1017209, 28)\n",
      "2024-09-21 15:34:25,998 - INFO - Final DataFrame shape: (1017209, 32)\n",
      "2024-09-21 15:34:26,014 - INFO - Preprocessing completed.\n",
      "2024-09-21 15:34:26,047 - INFO - Starting preprocessing...\n",
      "2024-09-21 15:34:26,048 - INFO - Initial DataFrame shape: (41088, 17)\n",
      " columns: ['Id', 'Store', 'DayOfWeek', 'Date', 'Open', 'Promo', 'StateHoliday', 'SchoolHoliday', 'StoreType', 'Assortment', 'CompetitionDistance', 'CompetitionOpenSinceMonth', 'CompetitionOpenSinceYear', 'Promo2', 'Promo2SinceWeek', 'Promo2SinceYear', 'PromoInterval']\n",
      "2024-09-21 15:34:26,049 - INFO - Handling missing values, encoding categorical variables, and scaling numerical variables...\n",
      "2024-09-21 15:34:26,278 - INFO - Missing value handling, encoding, and scaling completed in 0.23 seconds\n",
      "2024-09-21 15:34:26,278 - INFO - DataFrame shape after processing: (41088, 24)\n",
      "2024-09-21 15:34:26,318 - INFO - Final DataFrame shape: (41088, 28)\n",
      "2024-09-21 15:34:26,319 - INFO - Preprocessing completed.\n"
     ]
    },
    {
     "name": "stdout",
     "output_type": "stream",
     "text": [
      "      Sales  Customers      Open     Promo  SchoolHoliday  \\\n",
      "0 -0.132683  -0.168269  0.452399  1.273237       2.144211   \n",
      "1  0.075373  -0.017540  0.452399  1.273237       2.144211   \n",
      "2  0.659800   0.404499  0.452399  1.273237       2.144211   \n",
      "3  2.135414   1.862258  0.452399  1.273237       2.144211   \n",
      "4 -0.247231  -0.159656  0.452399  1.273237       2.144211   \n",
      "\n",
      "   CompetitionDistance  CompetitionOpenSinceMonth  CompetitionOpenSinceYear  \\\n",
      "0            -0.539900                   0.669941                 -0.139458   \n",
      "1            -0.630746                   1.423898                 -0.341504   \n",
      "2             1.129083                   1.800876                 -0.543550   \n",
      "3            -0.624257                   0.669941                  0.062588   \n",
      "4             3.177025                  -1.214950                  1.274865   \n",
      "\n",
      "     Promo2  Promo2SinceWeek  ...  Assortment_b  Assortment_c  \\\n",
      "0 -1.001128     2.849875e-15  ...           0.0           0.0   \n",
      "1  0.998873    -1.029693e+00  ...           0.0           0.0   \n",
      "2  0.998873    -9.294219e-01  ...           0.0           0.0   \n",
      "3 -1.001128     2.849875e-15  ...           0.0           1.0   \n",
      "4 -1.001128     2.849875e-15  ...           0.0           0.0   \n",
      "\n",
      "   PromoInterval_Feb,May,Aug,Nov  PromoInterval_Jan,Apr,Jul,Oct  \\\n",
      "0                            0.0                            0.0   \n",
      "1                            0.0                            1.0   \n",
      "2                            0.0                            1.0   \n",
      "3                            0.0                            0.0   \n",
      "4                            0.0                            0.0   \n",
      "\n",
      "   PromoInterval_Mar,Jun,Sept,Dec  PromoInterval_nan       Date  Year  Month  \\\n",
      "0                             0.0                1.0 2015-07-31  2015      7   \n",
      "1                             0.0                0.0 2015-07-31  2015      7   \n",
      "2                             0.0                0.0 2015-07-31  2015      7   \n",
      "3                             0.0                1.0 2015-07-31  2015      7   \n",
      "4                             0.0                1.0 2015-07-31  2015      7   \n",
      "\n",
      "   Day  \n",
      "0   31  \n",
      "1   31  \n",
      "2   31  \n",
      "3   31  \n",
      "4   31  \n",
      "\n",
      "[5 rows x 32 columns]\n",
      "<class 'pandas.core.frame.DataFrame'>\n",
      "RangeIndex: 1017209 entries, 0 to 1017208\n",
      "Data columns (total 32 columns):\n",
      " #   Column                          Non-Null Count    Dtype         \n",
      "---  ------                          --------------    -----         \n",
      " 0   Sales                           1017209 non-null  float64       \n",
      " 1   Customers                       1017209 non-null  float64       \n",
      " 2   Open                            1017209 non-null  float64       \n",
      " 3   Promo                           1017209 non-null  float64       \n",
      " 4   SchoolHoliday                   1017209 non-null  float64       \n",
      " 5   CompetitionDistance             1017209 non-null  float64       \n",
      " 6   CompetitionOpenSinceMonth       1017209 non-null  float64       \n",
      " 7   CompetitionOpenSinceYear        1017209 non-null  float64       \n",
      " 8   Promo2                          1017209 non-null  float64       \n",
      " 9   Promo2SinceWeek                 1017209 non-null  float64       \n",
      " 10  Promo2SinceYear                 1017209 non-null  float64       \n",
      " 11  Store                           1017209 non-null  int64         \n",
      " 12  DayOfWeek                       1017209 non-null  int32         \n",
      " 13  StateHoliday_0                  1017209 non-null  float64       \n",
      " 14  StateHoliday_a                  1017209 non-null  float64       \n",
      " 15  StateHoliday_b                  1017209 non-null  float64       \n",
      " 16  StateHoliday_c                  1017209 non-null  float64       \n",
      " 17  StoreType_a                     1017209 non-null  float64       \n",
      " 18  StoreType_b                     1017209 non-null  float64       \n",
      " 19  StoreType_c                     1017209 non-null  float64       \n",
      " 20  StoreType_d                     1017209 non-null  float64       \n",
      " 21  Assortment_a                    1017209 non-null  float64       \n",
      " 22  Assortment_b                    1017209 non-null  float64       \n",
      " 23  Assortment_c                    1017209 non-null  float64       \n",
      " 24  PromoInterval_Feb,May,Aug,Nov   1017209 non-null  float64       \n",
      " 25  PromoInterval_Jan,Apr,Jul,Oct   1017209 non-null  float64       \n",
      " 26  PromoInterval_Mar,Jun,Sept,Dec  1017209 non-null  float64       \n",
      " 27  PromoInterval_nan               1017209 non-null  float64       \n",
      " 28  Date                            1017209 non-null  datetime64[ns]\n",
      " 29  Year                            1017209 non-null  int32         \n",
      " 30  Month                           1017209 non-null  int32         \n",
      " 31  Day                             1017209 non-null  int32         \n",
      "dtypes: datetime64[ns](1), float64(26), int32(4), int64(1)\n",
      "memory usage: 232.8 MB\n",
      "None\n"
     ]
    }
   ],
   "source": [
    "# Preprocess data\n",
    "preprocessor = Preprocessor()\n",
    "train_processed = preprocessor.preprocess(train)\n",
    "test_processed = preprocessor.preprocess(test)\n",
    "\n",
    "print(train_processed.head())\n",
    "print(train_processed.info())"
   ]
  },
  {
   "cell_type": "code",
   "execution_count": 13,
   "metadata": {},
   "outputs": [
    {
     "name": "stdout",
     "output_type": "stream",
     "text": [
      "<class 'pandas.core.frame.DataFrame'>\n",
      "RangeIndex: 1017209 entries, 0 to 1017208\n",
      "Data columns (total 32 columns):\n",
      " #   Column                          Non-Null Count    Dtype         \n",
      "---  ------                          --------------    -----         \n",
      " 0   Sales                           1017209 non-null  float64       \n",
      " 1   Customers                       1017209 non-null  float64       \n",
      " 2   Open                            1017209 non-null  float64       \n",
      " 3   Promo                           1017209 non-null  float64       \n",
      " 4   SchoolHoliday                   1017209 non-null  float64       \n",
      " 5   CompetitionDistance             1017209 non-null  float64       \n",
      " 6   CompetitionOpenSinceMonth       1017209 non-null  float64       \n",
      " 7   CompetitionOpenSinceYear        1017209 non-null  float64       \n",
      " 8   Promo2                          1017209 non-null  float64       \n",
      " 9   Promo2SinceWeek                 1017209 non-null  float64       \n",
      " 10  Promo2SinceYear                 1017209 non-null  float64       \n",
      " 11  Store                           1017209 non-null  int64         \n",
      " 12  DayOfWeek                       1017209 non-null  int32         \n",
      " 13  StateHoliday_0                  1017209 non-null  float64       \n",
      " 14  StateHoliday_a                  1017209 non-null  float64       \n",
      " 15  StateHoliday_b                  1017209 non-null  float64       \n",
      " 16  StateHoliday_c                  1017209 non-null  float64       \n",
      " 17  StoreType_a                     1017209 non-null  float64       \n",
      " 18  StoreType_b                     1017209 non-null  float64       \n",
      " 19  StoreType_c                     1017209 non-null  float64       \n",
      " 20  StoreType_d                     1017209 non-null  float64       \n",
      " 21  Assortment_a                    1017209 non-null  float64       \n",
      " 22  Assortment_b                    1017209 non-null  float64       \n",
      " 23  Assortment_c                    1017209 non-null  float64       \n",
      " 24  PromoInterval_Feb,May,Aug,Nov   1017209 non-null  float64       \n",
      " 25  PromoInterval_Jan,Apr,Jul,Oct   1017209 non-null  float64       \n",
      " 26  PromoInterval_Mar,Jun,Sept,Dec  1017209 non-null  float64       \n",
      " 27  PromoInterval_nan               1017209 non-null  float64       \n",
      " 28  Date                            1017209 non-null  datetime64[ns]\n",
      " 29  Year                            1017209 non-null  int32         \n",
      " 30  Month                           1017209 non-null  int32         \n",
      " 31  Day                             1017209 non-null  int32         \n",
      "dtypes: datetime64[ns](1), float64(26), int32(4), int64(1)\n",
      "memory usage: 232.8 MB\n"
     ]
    }
   ],
   "source": [
    "train_processed.info()"
   ]
  },
  {
   "cell_type": "markdown",
   "metadata": {},
   "source": [
    "## Model Training and Evaluation"
   ]
  },
  {
   "cell_type": "code",
   "execution_count": null,
   "metadata": {},
   "outputs": [],
   "source": [
    "# Split data\n",
    "X = train_processed.drop(['Sales', 'Customers'], axis=1)\n",
    "y = train_processed['Sales']\n",
    "X_train, X_val, y_train, y_val = train_test_split(X, y, test_size=0.2, random_state=42)\n",
    "\n",
    "# Build and train model\n",
    "model_builder = ModelBuilder()\n",
    "model = model_builder.build_model(X_train, y_train)\n",
    "\n"
   ]
  },
  {
   "cell_type": "markdown",
   "metadata": {},
   "source": [
    "### Fit and Predict"
   ]
  },
  {
   "cell_type": "code",
   "execution_count": null,
   "metadata": {},
   "outputs": [],
   "source": [
    "# Make predictions\n",
    "y_pred = model.predict(X_val)\n",
    "\n",
    "# Evaluate model\n",
    "evaluator = Evaluator()\n",
    "metrics = evaluator.evaluate(y_val, y_pred)\n",
    "\n",
    "print(\"Model Performance Metrics:\")\n",
    "for metric, value in metrics.items():\n",
    "    print(f\"{metric.upper()}: {value:.4f}\")\n",
    "\n",
    "\n",
    " # Save model\n",
    "model_builder.save_model('./models')"
   ]
  },
  {
   "cell_type": "markdown",
   "metadata": {},
   "source": [
    "## Visualization of Results"
   ]
  },
  {
   "cell_type": "code",
   "execution_count": null,
   "metadata": {},
   "outputs": [],
   "source": [
    "# Plot residuals\n",
    "evaluator.plot_residuals(y_val, y_pred, './figures/model')\n",
    "plt.show()\n",
    "\n",
    "# Plot actual vs predicted\n",
    "evaluator.plot_actual_vs_predicted(y_val, y_pred, './figures/model')\n",
    "plt.show()\n",
    "\n",
    "# Plot feature importance\n",
    "evaluator.plot_feature_importance(model, X.columns, './figures/model')\n",
    "plt.show()"
   ]
  },
  {
   "cell_type": "markdown",
   "metadata": {},
   "source": [
    "## Save Test Predictions"
   ]
  },
  {
   "cell_type": "code",
   "execution_count": null,
   "metadata": {},
   "outputs": [],
   "source": [
    " # Make predictions on test set\n",
    "test_predictions = model.predict(test_processed.drop(['Sales', 'Customers'], axis=1))\n",
    "\n",
    "# Inverse transform the scaled predictions\n",
    "test_predictions = preprocessor.inverse_transform_sales(test_predictions)\n",
    "\n",
    "# Save predictions\n",
    "test['Predicted_Sales'] = test_predictions\n",
    "test[['Id', 'Predicted_Sales']].to_csv('./models/predictions/test_predictions.csv', index=False)"
   ]
  },
  {
   "cell_type": "markdown",
   "metadata": {},
   "source": [
    "## Analysis of Results"
   ]
  },
  {
   "cell_type": "code",
   "execution_count": null,
   "metadata": {},
   "outputs": [],
   "source": [
    "# Load test predictions\n",
    "test_predictions = pd.read_csv('./models/predictions/test_predictions.csv')\n",
    "\n",
    "# Analyze predictions\n",
    "print(test_predictions.describe())\n",
    "\n",
    "# Plot distribution of predicted sales\n",
    "plt.figure(figsize=(10, 6))\n",
    "sns.histplot(test_predictions['Predicted_Sales'], kde=True)\n",
    "plt.title('Distribution of Predicted Sales')\n",
    "plt.xlabel('Predicted Sales')\n",
    "plt.ylabel('Count')\n",
    "plt.show()\n",
    "\n",
    "# Analyze predictions by store type\n",
    "test_with_store = pd.merge(test_predictions, store, on='Store', how='left')\n",
    "plt.figure(figsize=(12, 6))\n",
    "sns.boxplot(x='StoreType', y='Predicted_Sales', data=test_with_store)\n",
    "plt.title('Predicted Sales by Store Type')\n",
    "plt.show()\n",
    "\n",
    "# Time series plot of predictions\n",
    "test_with_date = pd.merge(test_predictions, test[['Id', 'Date']], on='Id', how='left')\n",
    "test_with_date['Date'] = pd.to_datetime(test_with_date['Date'])\n",
    "test_with_date = test_with_date.sort_values('Date')\n",
    "\n",
    "plt.figure(figsize=(15, 6))\n",
    "plt.plot(test_with_date['Date'], test_with_date['Predicted_Sales'])\n",
    "plt.title('Time Series of Predicted Sales')\n",
    "plt.xlabel('Date')\n",
    "plt.ylabel('Predicted Sales')\n",
    "plt.xticks(rotation=45)\n",
    "plt.show()"
   ]
  },
  {
   "cell_type": "markdown",
   "metadata": {},
   "source": [
    "## Conclusion and Insights"
   ]
  },
  {
   "cell_type": "markdown",
   "metadata": {},
   "source": [
    "Based on the analysis above, we can draw the following conclusions:\n",
    "\n",
    "1. Model Performance: Our Random Forest model achieved [insert metrics here], indicating [interpretation of performance].\n",
    "\n",
    "2. Feature Importance: The most important features for predicting sales are [list top features]. This suggests that [interpretation of feature importance].\n",
    "\n",
    "3. Sales Distribution: The distribution of predicted sales shows [describe distribution], which aligns with [or differs from] our expectations based on historical data.\n",
    "\n",
    "4. Store Type Impact: There are notable differences in predicted sales across store types, with [describe differences]. This suggests that [interpretation of store type impact].\n",
    "\n",
    "5. Temporal Trends: The time series plot of predicted sales reveals [describe any patterns or trends observed], which could be attributed to [possible explanations].\n",
    "\n",
    "These insights can help Rossmann Pharmaceuticals in the following ways:\n",
    "- [List practical applications of the insights]\n",
    "- [Suggest areas for further investigation or improvement]\n",
    "\n",
    "Future work could include:\n",
    "- [Suggest potential enhancements or extensions to the current model]\n",
    "- [Propose additional analyses that could provide more insights]"
   ]
  }
 ],
 "metadata": {
  "kernelspec": {
   "display_name": "Python 3",
   "language": "python",
   "name": "python3"
  },
  "language_info": {
   "codemirror_mode": {
    "name": "ipython",
    "version": 3
   },
   "file_extension": ".py",
   "mimetype": "text/x-python",
   "name": "python",
   "nbconvert_exporter": "python",
   "pygments_lexer": "ipython3",
   "version": "3.12.4"
  }
 },
 "nbformat": 4,
 "nbformat_minor": 4
}
