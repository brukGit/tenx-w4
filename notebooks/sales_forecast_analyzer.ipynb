{
 "cells": [
  {
   "cell_type": "markdown",
   "metadata": {},
   "source": [
    "# Rossmann Pharmaceuticals Sales Forecast Analysis"
   ]
  },
  {
   "cell_type": "code",
   "execution_count": null,
   "metadata": {},
   "outputs": [],
   "source": [
    "import sys\n",
    "sys.path.append('../src')\n",
    "import pandas as pd\n",
    "import numpy as np\n",
    "import matplotlib.pyplot as plt\n",
    "import seaborn as sns\n",
    "from sklearn.model_selection import train_test_split\n",
    "from preprocessor import Preprocessor\n",
    "from model_builder import ModelBuilder\n",
    "from evaluator import Evaluator"
   ]
  },
  {
   "cell_type": "markdown",
   "metadata": {},
   "source": [
    "## Data Loading and Preprocessing"
   ]
  },
  {
   "cell_type": "code",
   "execution_count": null,
   "metadata": {},
   "outputs": [],
   "source": [
    "# Load data\n",
    "train = pd.read_csv('../resources/Data/train.csv')\n",
    "test = pd.read_csv('../resources/Data/test.csv')\n",
    "store = pd.read_csv('../resources/Data/store.csv')\n",
    "\n",
    "# Merge data\n",
    "train = pd.merge(train, store, on='Store', how='left')\n",
    "test = pd.merge(test, store, on='Store', how='left')\n",
    "\n",
    "# Preprocess data\n",
    "preprocessor = Preprocessor()\n",
    "train_processed = preprocessor.preprocess(train)\n",
    "test_processed = preprocessor.preprocess(test)\n",
    "\n",
    "print(train_processed.head())\n",
    "print(train_processed.info())"
   ]
  },
  {
   "cell_type": "markdown",
   "metadata": {},
   "source": [
    "## Model Training and Evaluation"
   ]
  },
  {
   "cell_type": "code",
   "execution_count": null,
   "metadata": {},
   "outputs": [],
   "source": [
    "# Split data\n",
    "X = train_processed.drop(['Sales', 'Customers'], axis=1)\n",
    "y = train_processed['Sales']\n",
    "X_train, X_val, y_train, y_val = train_test_split(X, y, test_size=0.2, random_state=42)\n",
    "\n",
    "# Build and train model\n",
    "model_builder = ModelBuilder()\n",
    "model = model_builder.build_model(X_train, y_train)\n",
    "\n",
    "# Make predictions\n",
    "y_pred = model.predict(X_val)\n",
    "\n",
    "# Evaluate model\n",
    "evaluator = Evaluator()\n",
    "metrics = evaluator.evaluate(y_val, y_pred)\n",
    "\n",
    "print(\"Model Performance Metrics:\")\n",
    "for metric, value in metrics.items():\n",
    "    print(f\"{metric.upper()}: {value:.4f}\")"
   ]
  },
  {
   "cell_type": "markdown",
   "metadata": {},
   "source": [
    "## Visualization of Results"
   ]
  },
  {
   "cell_type": "code",
   "execution_count": null,
   "metadata": {},
   "outputs": [],
   "source": [
    "# Plot residuals\n",
    "evaluator.plot_residuals(y_val, y_pred, './figures')\n",
    "plt.show()\n",
    "\n",
    "# Plot actual vs predicted\n",
    "evaluator.plot_actual_vs_predicted(y_val, y_pred, './figures')\n",
    "plt.show()\n",
    "\n",
    "# Plot feature importance\n",
    "evaluator.plot_feature_importance(model, X.columns, './figures')\n",
    "plt.show()"
   ]
  },
  {
   "cell_type": "markdown",
   "metadata": {},
   "source": [
    "## Analysis of Results"
   ]
  },
  {
   "cell_type": "code",
   "execution_count": null,
   "metadata": {},
   "outputs": [],
   "source": [
    "# Load test predictions\n",
    "test_predictions = pd.read_csv('../predictions/test_predictions.csv')\n",
    "\n",
    "# Analyze predictions\n",
    "print(test_predictions.describe())\n",
    "\n",
    "# Plot distribution of predicted sales\n",
    "plt.figure(figsize=(10, 6))\n",
    "sns.histplot(test_predictions['Predicted_Sales'], kde=True)\n",
    "plt.title('Distribution of Predicted Sales')\n",
    "plt.xlabel('Predicted Sales')\n",
    "plt.ylabel('Count')\n",
    "plt.show()\n",
    "\n",
    "# Analyze predictions by store type\n",
    "test_with_store = pd.merge(test_predictions, store, on='Store', how='left')\n",
    "plt.figure(figsize=(12, 6))\n",
    "sns.boxplot(x='StoreType', y='Predicted_Sales', data=test_with_store)\n",
    "plt.title('Predicted Sales by Store Type')\n",
    "plt.show()\n",
    "\n",
    "# Time series plot of predictions\n",
    "test_with_date = pd.merge(test_predictions, test[['Id', 'Date']], on='Id', how='left')\n",
    "test_with_date['Date'] = pd.to_datetime(test_with_date['Date'])\n",
    "test_with_date = test_with_date.sort_values('Date')\n",
    "\n",
    "plt.figure(figsize=(15, 6))\n",
    "plt.plot(test_with_date['Date'], test_with_date['Predicted_Sales'])\n",
    "plt.title('Time Series of Predicted Sales')\n",
    "plt.xlabel('Date')\n",
    "plt.ylabel('Predicted Sales')\n",
    "plt.xticks(rotation=45)\n",
    "plt.show()"
   ]
  },
  {
   "cell_type": "markdown",
   "metadata": {},
   "source": [
    "## Conclusion and Insights"
   ]
  },
  {
   "cell_type": "markdown",
   "metadata": {},
   "source": [
    "Based on the analysis above, we can draw the following conclusions:\n",
    "\n",
    "1. Model Performance: Our Random Forest model achieved [insert metrics here], indicating [interpretation of performance].\n",
    "\n",
    "2. Feature Importance: The most important features for predicting sales are [list top features]. This suggests that [interpretation of feature importance].\n",
    "\n",
    "3. Sales Distribution: The distribution of predicted sales shows [describe distribution], which aligns with [or differs from] our expectations based on historical data.\n",
    "\n",
    "4. Store Type Impact: There are notable differences in predicted sales across store types, with [describe differences]. This suggests that [interpretation of store type impact].\n",
    "\n",
    "5. Temporal Trends: The time series plot of predicted sales reveals [describe any patterns or trends observed], which could be attributed to [possible explanations].\n",
    "\n",
    "These insights can help Rossmann Pharmaceuticals in the following ways:\n",
    "- [List practical applications of the insights]\n",
    "- [Suggest areas for further investigation or improvement]\n",
    "\n",
    "Future work could include:\n",
    "- [Suggest potential enhancements or extensions to the current model]\n",
    "- [Propose additional analyses that could provide more insights]"
   ]
  }
 ],
 "metadata": {
  "kernelspec": {
   "display_name": "Python 3",
   "language": "python",
   "name": "python3"
  },
  "language_info": {
   "codemirror_mode": {
    "name": "ipython",
    "version": 3
   },
   "file_extension": ".py",
   "mimetype": "text/x-python",
   "name": "python",
   "nbconvert_exporter": "python",
   "pygments_lexer": "ipython3",
   "version": "3.8.5"
  }
 },
 "nbformat": 4,
 "nbformat_minor": 4
}